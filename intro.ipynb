{
 "cells": [
  {
   "cell_type": "markdown",
   "metadata": {},
   "source": [
    "# Bem-vind@!\n",
    "\n",
    "Algumas das vantagens em usar um documento do tipo Notebook são:\n",
    "\n",
    "- podes **acompanhar o teu código** pelo material que for necessário para explicar ao leitor (ou a ti própri@ no futuro!) o que estás a fazer em cada passo, com texto, diagramas, fotografias... Por exemplo, aqui fica um sapo fofinho para te inspirar!\n",
    "\n",
    "<p align=\"center\"><img src=\"cute_frog.jpg\" width=\"50%\"/></p>\n",
    "\n",
    "- podes **correr apenas um bloco de código** de cada vez, o que pode ser útil se quiseres corrigir algum erro independente do restante código.\n",
    "\n",
    "- podes **visualizar mais facilmente o output** de uma linha de código, o que (a par do tópico anterior) pode-te ajudar a correr exemplos de uma função que definiste anteriormente.\n",
    "\n",
    "- podes usar em blocos seguintes as funções que tenhas definido nos anteriores, tendo-as todas **organizadas, cada uma no seu bloco**, ficando mais fácil de as encontrar e editar.\n",
    "\n",
    "Vê o código abaixo e experimenta executá-lo no botão de _play_, à esquerda da célula:"
   ]
  },
  {
   "cell_type": "code",
   "execution_count": null,
   "metadata": {},
   "outputs": [],
   "source": [
    "print(\"Hello World\")"
   ]
  },
  {
   "cell_type": "markdown",
   "metadata": {},
   "source": [
    "Repara que o resultado do código ficou imediatamente abaixo da célula, e que aparece um número do seu lado esquerdo, que indica a ordem da sua execução. As variáveis são mantidas de célula para célula, _pela ordem de execução_."
   ]
  },
  {
   "cell_type": "markdown",
   "metadata": {},
   "source": [
    "## Variáveis\n",
    "\n",
    "São 'caixas' onde guardamos valores que são usados, repetidamente, ao longo do programa.\n",
    "\n",
    "Preenche o teu nome abaixo!"
   ]
  },
  {
   "cell_type": "code",
   "execution_count": null,
   "metadata": {},
   "outputs": [],
   "source": [
    "meu_nome = 'ALPHA'\n",
    "\n",
    "meu_nome"
   ]
  },
  {
   "cell_type": "code",
   "execution_count": null,
   "metadata": {},
   "outputs": [],
   "source": [
    "# Área do retângulo\n",
    "\n",
    "base = 2\n",
    "altura = 3\n",
    "\n",
    "area = base*altura\n",
    "area"
   ]
  },
  {
   "cell_type": "markdown",
   "metadata": {},
   "source": [
    "## Funções\n",
    "\n",
    "São blocos de instruções que realizam tarefas específicas que queremos que o computador execute."
   ]
  },
  {
   "cell_type": "code",
   "execution_count": 15,
   "metadata": {},
   "outputs": [],
   "source": [
    "def calcularAreaRetangulo(largura, comprimento):\n",
    "    area = largura * comprimento\n",
    "    return area"
   ]
  },
  {
   "cell_type": "code",
   "execution_count": null,
   "metadata": {},
   "outputs": [],
   "source": [
    "calcularAreaRetangulo(6, 2)"
   ]
  },
  {
   "cell_type": "code",
   "execution_count": null,
   "metadata": {},
   "outputs": [],
   "source": [
    "calcularAreaRetangulo(base, altura)"
   ]
  },
  {
   "cell_type": "markdown",
   "metadata": {},
   "source": [
    "Também podemos aproveitar funções já definidas em **módulos**, para não termos que as definir novamente...\n",
    "\n",
    "Repara no exemplo do fatorial, importado do módulo [`math`](https://docs.python.org/3/library/math.html):"
   ]
  },
  {
   "cell_type": "code",
   "execution_count": null,
   "metadata": {},
   "outputs": [],
   "source": [
    "from math import factorial\n",
    "\n",
    "factorial(5)"
   ]
  },
  {
   "cell_type": "markdown",
   "metadata": {},
   "source": [
    "## E agora?\n",
    "\n",
    "Podes fazer o que quiseres..."
   ]
  }
 ],
 "metadata": {
  "kernelspec": {
   "display_name": "Python 3",
   "language": "python",
   "name": "python3"
  },
  "language_info": {
   "codemirror_mode": {
    "name": "ipython",
    "version": 3
   },
   "file_extension": ".py",
   "mimetype": "text/x-python",
   "name": "python",
   "nbconvert_exporter": "python",
   "pygments_lexer": "ipython3",
   "version": "3.12.1"
  }
 },
 "nbformat": 4,
 "nbformat_minor": 2
}
