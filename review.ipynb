{
 "cells": [
  {
   "cell_type": "markdown",
   "metadata": {
    "vscode": {
     "languageId": "plaintext"
    }
   },
   "source": [
    "# Introdução ao Notebook\n",
    "\n",
    "Este ficheiro é um Jupyter Notebook. É muito útil porque está dividido em pequenos blocos. Isto permite-nos:\n",
    "\n",
    "* Intercalar código com texto\n",
    "* Executar apenas o bloco que precisamos\n",
    "* Visualizar facilmente o resultado dos nossos programas\n",
    "* Entre outros...\n",
    "\n",
    "Neste caso, vamos utilizar este ficheiro para correr código **Python**.\n",
    "\n",
    "Vê o código abaixo e experimenta executá-lo no botão de _play_, à esquerda da célula:"
   ]
  },
  {
   "cell_type": "code",
   "execution_count": null,
   "metadata": {},
   "outputs": [],
   "source": [
    "print(\"Hello World\")"
   ]
  },
  {
   "cell_type": "markdown",
   "metadata": {},
   "source": [
    "Repara que o resultado do código ficou imediatamente abaixo da célula, e que aparece um número do seu lado esquerdo, que indica a ordem da sua execução. As variáveis são mantidas de célula para célula, _pela ordem de execução_."
   ]
  },
  {
   "cell_type": "markdown",
   "metadata": {},
   "source": [
    "#### Exercício 1\n",
    "\n",
    "Mas antes disso, começa por te apresentares!\n",
    "\n",
    "Altera o valor da variável `meu_nome` e imprime `Olá, eu sou o ****` com o teu nome, utilizando esta variável."
   ]
  },
  {
   "cell_type": "code",
   "execution_count": null,
   "metadata": {},
   "outputs": [],
   "source": [
    "meu_nome = \"João Manuel da Cunha Pereira\" # altera para o teu nome!\n",
    "\n",
    "print() # acrescenta coisas nesta linha!"
   ]
  },
  {
   "cell_type": "markdown",
   "metadata": {},
   "source": [
    "#### Exercício 2\n",
    "\n",
    "Faz agora um programa que pede ao utilizador o seu nome e que lhe responde 'Olá, [nome do utilizador]'.\n",
    "\n",
    "*Dica:* lembras-te do que faz a função `input()`?"
   ]
  },
  {
   "cell_type": "code",
   "execution_count": null,
   "metadata": {},
   "outputs": [],
   "source": [
    "# Escreve aqui"
   ]
  },
  {
   "cell_type": "markdown",
   "metadata": {},
   "source": [
    "#### Exercício 3\n",
    "\n",
    "Faz agora este exercício, para testar se ainda te lembras de como se trabalha com expressões lógicas e comparações!\n",
    "\n",
    "Escreve um programa que, a partir do valor de dois dados, de acordo com a soma dos valores dos dois dados, se comporta da seguinte forma:\n",
    "- Se a soma for igual a 2 ou 12, imprime \"Ganha a dobrar\"\n",
    "- Se a soma for igual a 3, 4, 9, 10 ou 11, imprime \"Ganha\"\n",
    "- Se a soma for igual a outro valor, imprime \"Perde\"\n",
    "\n",
    "(Esta lógica corresponde à Field Roll do jogo de dados Craps.)"
   ]
  },
  {
   "cell_type": "code",
   "execution_count": null,
   "metadata": {},
   "outputs": [],
   "source": [
    "dado_1 = 1 # Podes (e deves!) mudar os valores dos dados para testar o comportamento do teu código\n",
    "dado_2 = 1\n",
    "\n",
    "# Completa o código!\n",
    "soma = # ..."
   ]
  },
  {
   "cell_type": "markdown",
   "metadata": {},
   "source": [
    "#### Exercício 4\n",
    "\n",
    "Escreve uma função chamada bissexto que determina se um ano é `bissexto`. Um ano é bissexto se for divisível por 4 e não for divisível por 100, a não ser que seja também divisível por 400. \n",
    "\n",
    "Por exemplo, 1984 é bissexto, 1100 não é, e 2000 é bissexto."
   ]
  },
  {
   "cell_type": "code",
   "execution_count": null,
   "metadata": {},
   "outputs": [],
   "source": [
    "def bissexto(ano):\n",
    "    # Completa a definição da função"
   ]
  },
  {
   "cell_type": "markdown",
   "metadata": {},
   "source": [
    "Podes também acompanhar o bloco onde defines uma função de um bloco onde **testas** a tua função!"
   ]
  },
  {
   "cell_type": "code",
   "execution_count": null,
   "metadata": {},
   "outputs": [],
   "source": [
    "print(\"O ano de 1984 é bissexto?\", bissexto(1984))\n",
    "\n",
    "print(\"O ano de 1984 é bissexto?\", bissexto(1100))\n",
    "\n",
    "print(\"O ano de 1984 é bissexto?\", bissexto(2000))"
   ]
  },
  {
   "cell_type": "markdown",
   "metadata": {},
   "source": [
    "#### Exercício 5\n",
    "\n",
    "Agora, podes escrever uma função chamada `quad_bissexto`, que determina se o **quadrado** de um número corresponde a um ano bissexto.\n",
    "\n",
    "Lembra-te que podes usar funções já definidas em blocos anteriores! :)"
   ]
  },
  {
   "cell_type": "code",
   "execution_count": null,
   "metadata": {},
   "outputs": [],
   "source": [
    "def quad_bissexto(n):\n",
    "    \n",
    "# Completa a definição da função   "
   ]
  },
  {
   "cell_type": "markdown",
   "metadata": {},
   "source": [
    "Como podemos testar?"
   ]
  }
 ],
 "metadata": {
  "language_info": {
   "name": "python"
  }
 },
 "nbformat": 4,
 "nbformat_minor": 2
}
